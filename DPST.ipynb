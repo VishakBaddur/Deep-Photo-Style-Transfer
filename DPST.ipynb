{
 "cells": [
  {
   "cell_type": "code",
   "execution_count": 1,
   "id": "17c4e569",
   "metadata": {},
   "outputs": [],
   "source": [
    "import numpy as np\n",
    "import tensorflow as tf\n",
    "from tensorflow import keras\n",
    "from tensorflow.keras.applications import VGG19\n",
    "from tensorflow.keras.applications.vgg19 import preprocess_input\n",
    "from tensorflow.keras.models import Model\n",
    "from tensorflow.keras.optimizers import Adam\n",
    "import cv2"
   ]
  },
  {
   "cell_type": "code",
   "execution_count": 2,
   "id": "72dfadf6",
   "metadata": {},
   "outputs": [],
   "source": [
    "vgg = VGG19(include_top=False, weights='imagenet')\n",
    "vgg.trainable = False"
   ]
  },
  {
   "cell_type": "code",
   "execution_count": 3,
   "id": "1671ae20",
   "metadata": {},
   "outputs": [],
   "source": [
    "content_layers = ['block5_conv2']\n",
    "style_layers = ['block1_conv1', 'block2_conv1', 'block3_conv1', 'block4_conv1', 'block5_conv1']\n"
   ]
  },
  {
   "cell_type": "code",
   "execution_count": 4,
   "id": "d7236fb6",
   "metadata": {},
   "outputs": [],
   "source": [
    "content_model = Model(inputs=vgg.input, outputs=[vgg.get_layer(name).output for name in content_layers])\n",
    "style_model = Model(inputs=vgg.input, outputs=[vgg.get_layer(name).output for name in style_layers])\n"
   ]
  },
  {
   "cell_type": "code",
   "execution_count": 5,
   "id": "e037638e",
   "metadata": {},
   "outputs": [],
   "source": [
    "def content_loss(content, target):\n",
    "    return tf.reduce_mean(tf.square(content - target))\n"
   ]
  },
  {
   "cell_type": "code",
   "execution_count": 6,
   "id": "b6907b27",
   "metadata": {},
   "outputs": [],
   "source": [
    "def gram_matrix(input_tensor):\n",
    "    channels = int(input_tensor.shape[-1])\n",
    "    a = tf.reshape(input_tensor, [-1, channels])\n",
    "    n = tf.shape(a)[0]\n",
    "    gram = tf.matmul(a, a, transpose_a=True)\n",
    "    return gram / tf.cast(n, tf.float32)"
   ]
  },
  {
   "cell_type": "code",
   "execution_count": 7,
   "id": "ab194abe",
   "metadata": {},
   "outputs": [],
   "source": [
    "def style_loss(style, target):\n",
    "    style_gram = gram_matrix(style)\n",
    "    target_gram = gram_matrix(target)\n",
    "    return tf.reduce_mean(tf.square(style_gram - target_gram))"
   ]
  },
  {
   "cell_type": "code",
   "execution_count": 8,
   "id": "40e5c88d",
   "metadata": {},
   "outputs": [],
   "source": [
    "def total_variation_loss(image):\n",
    "    x_deltas, y_deltas = image[:, :-1, :-1, :] - image[:, :-1, 1:, :], image[:, :-1, :-1, :] - image[:, 1:, :-1, :]\n",
    "    return tf.reduce_mean(tf.square(x_deltas)) + tf.reduce_mean(tf.square(y_deltas))\n"
   ]
  },
  {
   "cell_type": "code",
   "execution_count": 9,
   "id": "bc6ec925",
   "metadata": {},
   "outputs": [],
   "source": [
    "def compute_loss(content_targets, style_targets, image, content_weight, style_weight, tv_weight):\n",
    "    content_outputs = content_model(image)\n",
    "    style_outputs = style_model(image)\n",
    "\n",
    "    content_loss_val = 0\n",
    "    style_loss_val = 0\n",
    "\n",
    "    for target, output in zip(content_targets, content_outputs):\n",
    "        content_loss_val += content_loss(output[0], target)\n",
    "\n",
    "    for target, output in zip(style_targets, style_outputs):\n",
    "        style_loss_val += style_loss(output[0], target)\n",
    "\n",
    "    content_loss_val *= content_weight / len(content_outputs)\n",
    "    style_loss_val *= style_weight / len(style_outputs)\n",
    "    tv_loss_val = total_variation_loss(image) * tv_weight\n",
    "\n",
    "    total_loss = content_loss_val + style_loss_val + tv_loss_val\n",
    "    return total_loss"
   ]
  },
  {
   "cell_type": "code",
   "execution_count": 10,
   "id": "56bbee0c",
   "metadata": {},
   "outputs": [],
   "source": [
    "def initialize_image(content_image):\n",
    "    image = tf.Variable(content_image, dtype=tf.float32)\n",
    "    return image"
   ]
  },
  {
   "cell_type": "code",
   "execution_count": 11,
   "id": "87d14aef",
   "metadata": {},
   "outputs": [],
   "source": [
    "def style_transfer(content_image, style_image, num_iterations=1000, content_weight=1e3, style_weight=1e-2, tv_weight=1e-2, learning_rate=5):\n",
    "    content_image = np.expand_dims(content_image, axis=0)\n",
    "    style_image = np.expand_dims(style_image, axis=0)\n",
    "\n",
    "    content_targets = content_model(content_image)\n",
    "    style_targets = style_model(style_image)\n",
    "\n",
    "    image = initialize_image(content_image)\n",
    "\n",
    "    optimizer = Adam(learning_rate=learning_rate, beta_1=0.99, epsilon=1e-1)\n",
    "\n",
    "    for i in range(num_iterations):\n",
    "        with tf.GradientTape() as tape:\n",
    "            loss = compute_loss(content_targets, style_targets, image, content_weight, style_weight, tv_weight)\n",
    "        grads = tape.gradient(loss, image)\n",
    "        optimizer.apply_gradients([(grads, image)])\n",
    "\n",
    "        image.assign(tf.clip_by_value(image, clip_value_min=0.0, clip_value_max=255.0))\n",
    "\n",
    "        if i % 100 == 0:\n",
    "            print(f\"Iteration: {i}, Loss: {loss}\")\n",
    "\n",
    "    return image.numpy()"
   ]
  },
  {
   "cell_type": "code",
   "execution_count": 12,
   "id": "6a5bdd0d",
   "metadata": {},
   "outputs": [],
   "source": [
    "def load_image(image_path):\n",
    "    try:\n",
    "        image = cv2.imread(image_path)\n",
    "        if image is None:\n",
    "            raise Exception(f\"Image '{image_path}' not found or cannot be read.\")\n",
    "        image = cv2.cvtColor(image, cv2.COLOR_BGR2RGB)\n",
    "        image = preprocess_input(image)\n",
    "        return image\n",
    "    except Exception as e:\n",
    "        print(f\"Error loading image '{image_path}': {e}\")\n",
    "        return None"
   ]
  },
  {
   "cell_type": "code",
   "execution_count": 13,
   "id": "a605d0cb",
   "metadata": {},
   "outputs": [],
   "source": [
    "content_image_path = r\"C:\\Users\\baddu\\Desktop\\python projects\\major project\\pics\\pics2\\content_image.jpg\"\n",
    "style_image_path = r\"C:\\Users\\baddu\\Desktop\\python projects\\major project\\pics\\pics2\\style_image.jpg\""
   ]
  },
  {
   "cell_type": "code",
   "execution_count": 14,
   "id": "e73f2aef",
   "metadata": {},
   "outputs": [],
   "source": [
    "content_image = load_image(content_image_path)\n",
    "style_image = load_image(style_image_path)"
   ]
  },
  {
   "cell_type": "code",
   "execution_count": 16,
   "id": "360888e2",
   "metadata": {},
   "outputs": [
    {
     "name": "stdout",
     "output_type": "stream",
     "text": [
      "Iteration: 0, Loss: 1137089920.0\n",
      "Iteration: 100, Loss: 69517112.0\n",
      "Iteration: 200, Loss: 35556044.0\n",
      "Iteration: 300, Loss: 23136060.0\n",
      "Iteration: 400, Loss: 17193094.0\n",
      "Iteration: 500, Loss: 14121378.0\n",
      "Iteration: 600, Loss: 12391549.0\n",
      "Iteration: 700, Loss: 11327425.0\n",
      "Iteration: 800, Loss: 10600011.0\n",
      "Iteration: 900, Loss: 10058615.0\n"
     ]
    },
    {
     "ename": "error",
     "evalue": "OpenCV(4.9.0) D:\\a\\opencv-python\\opencv-python\\opencv\\modules\\highgui\\src\\window.cpp:1272: error: (-2:Unspecified error) The function is not implemented. Rebuild the library with Windows, GTK+ 2.x or Cocoa support. If you are on Ubuntu or Debian, install libgtk2.0-dev and pkg-config, then re-run cmake or configure script in function 'cvShowImage'\n",
     "output_type": "error",
     "traceback": [
      "\u001b[1;31m---------------------------------------------------------------------------\u001b[0m",
      "\u001b[1;31merror\u001b[0m                                     Traceback (most recent call last)",
      "\u001b[1;32m~\\AppData\\Local\\Temp\\ipykernel_1696\\2542499116.py\u001b[0m in \u001b[0;36m<module>\u001b[1;34m\u001b[0m\n\u001b[0;32m     13\u001b[0m     \u001b[1;31m# Save or display the result\u001b[0m\u001b[1;33m\u001b[0m\u001b[1;33m\u001b[0m\u001b[0m\n\u001b[0;32m     14\u001b[0m     \u001b[0mcv2\u001b[0m\u001b[1;33m.\u001b[0m\u001b[0mimwrite\u001b[0m\u001b[1;33m(\u001b[0m\u001b[1;34mr\"C:\\Users\\baddu\\Desktop\\python projects\\major project\\pics\\pics2\\out.jpg\"\u001b[0m\u001b[1;33m,\u001b[0m \u001b[0mgenerated_image\u001b[0m\u001b[1;33m)\u001b[0m\u001b[1;33m\u001b[0m\u001b[1;33m\u001b[0m\u001b[0m\n\u001b[1;32m---> 15\u001b[1;33m     \u001b[0mcv2\u001b[0m\u001b[1;33m.\u001b[0m\u001b[0mimshow\u001b[0m\u001b[1;33m(\u001b[0m\u001b[1;34m'Generated Image'\u001b[0m\u001b[1;33m,\u001b[0m \u001b[0mgenerated_image\u001b[0m\u001b[1;33m)\u001b[0m\u001b[1;33m\u001b[0m\u001b[1;33m\u001b[0m\u001b[0m\n\u001b[0m\u001b[0;32m     16\u001b[0m     \u001b[0mcv2\u001b[0m\u001b[1;33m.\u001b[0m\u001b[0mwaitKey\u001b[0m\u001b[1;33m(\u001b[0m\u001b[1;36m0\u001b[0m\u001b[1;33m)\u001b[0m\u001b[1;33m\u001b[0m\u001b[1;33m\u001b[0m\u001b[0m\n\u001b[0;32m     17\u001b[0m     \u001b[0mcv2\u001b[0m\u001b[1;33m.\u001b[0m\u001b[0mdestroyAllWindows\u001b[0m\u001b[1;33m(\u001b[0m\u001b[1;33m)\u001b[0m\u001b[1;33m\u001b[0m\u001b[1;33m\u001b[0m\u001b[0m\n",
      "\u001b[1;31merror\u001b[0m: OpenCV(4.9.0) D:\\a\\opencv-python\\opencv-python\\opencv\\modules\\highgui\\src\\window.cpp:1272: error: (-2:Unspecified error) The function is not implemented. Rebuild the library with Windows, GTK+ 2.x or Cocoa support. If you are on Ubuntu or Debian, install libgtk2.0-dev and pkg-config, then re-run cmake or configure script in function 'cvShowImage'\n"
     ]
    }
   ],
   "source": [
    "if content_image is not None and style_image is not None:\n",
    "    # Resize images for memory efficiency\n",
    "    content_image = cv2.resize(content_image, (256, 256))\n",
    "    style_image = cv2.resize(style_image, (256, 256))\n",
    "\n",
    "    # Perform Style Transfer\n",
    "    generated_image = style_transfer(content_image, style_image)\n",
    "\n",
    "    # Post-process the generated image\n",
    "    generated_image = np.clip(generated_image[0], 0, 255).astype('uint8')\n",
    "    generated_image = cv2.cvtColor(generated_image, cv2.COLOR_RGB2BGR)\n",
    "\n",
    "    # Save the result\n",
    "    cv2.imwrite(r\"C:\\Users\\baddu\\Desktop\\python projects\\major project\\pics\\pics2\\out.jpg\", generated_image)\n",
    "else:\n",
    "    print(\"Failed to load content or style image.\")\n"
   ]
  },
  {
   "cell_type": "code",
   "execution_count": null,
   "id": "ad94b527",
   "metadata": {},
   "outputs": [],
   "source": []
  }
 ],
 "metadata": {
  "kernelspec": {
   "display_name": "Python 3 (ipykernel)",
   "language": "python",
   "name": "python3"
  },
  "language_info": {
   "codemirror_mode": {
    "name": "ipython",
    "version": 3
   },
   "file_extension": ".py",
   "mimetype": "text/x-python",
   "name": "python",
   "nbconvert_exporter": "python",
   "pygments_lexer": "ipython3",
   "version": "3.9.13"
  }
 },
 "nbformat": 4,
 "nbformat_minor": 5
}
